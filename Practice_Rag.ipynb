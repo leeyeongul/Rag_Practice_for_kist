{
 "cells": [
  {
   "cell_type": "markdown",
   "id": "b336d005-0d77-4949-8198-eca627ca1d5f",
   "metadata": {},
   "source": [
    "# 1. 커널/환경 점검 & 기본 경로"
   ]
  },
  {
   "cell_type": "code",
   "execution_count": 1,
   "id": "a0b651ea-4d17-46cc-93e6-b7bfe08833e6",
   "metadata": {},
   "outputs": [
    {
     "name": "stdout",
     "output_type": "stream",
     "text": [
      "Python: 3.10.7 (tags/v3.10.7:6cc6b13, Sep  5 2022, 14:08:36) [MSC v.1933 64 bit (AMD64)]\n",
      "Platform: Windows-10-10.0.19045-SP0\n",
      "Venv: C:\\Users\\user\\Practice_Rag\\venv\n",
      "CWD: C:\\Users\\user\\Practice_Rag\\Python_code\n",
      "DATA_DIR: C:\\Users\\user\\Practice_Rag\\Python_code\\data\n"
     ]
    }
   ],
   "source": [
    "import sys, os, platform, subprocess, textwrap\n",
    "\n",
    "print(\"Python:\", sys.version)\n",
    "print(\"Platform:\", platform.platform())\n",
    "print(\"Venv:\", os.environ.get(\"VIRTUAL_ENV\"))\n",
    "print(\"CWD:\", os.getcwd())\n",
    "\n",
    "# 프로젝트 폴더에 data 폴더 없으면 생성\n",
    "DATA_DIR = os.path.join(os.getcwd(), \"data\")\n",
    "os.makedirs(DATA_DIR, exist_ok=True)\n",
    "print(\"DATA_DIR:\", DATA_DIR)"
   ]
  },
  {
   "cell_type": "markdown",
   "id": "ad370bd2-818e-426f-8076-af42a59eae66",
   "metadata": {},
   "source": [
    "# 2. 핵심 라이브러리 임포트 (RAG 기본)"
   ]
  },
  {
   "cell_type": "code",
   "execution_count": 2,
   "id": "d4ac2281-5aa7-4844-b05c-de50179e25bf",
   "metadata": {},
   "outputs": [
    {
     "name": "stderr",
     "output_type": "stream",
     "text": [
      "C:\\Users\\user\\Practice_Rag\\venv\\lib\\site-packages\\tqdm\\auto.py:21: TqdmWarning: IProgress not found. Please update jupyter and ipywidgets. See https://ipywidgets.readthedocs.io/en/stable/user_install.html\n",
      "  from .autonotebook import tqdm as notebook_tqdm\n"
     ]
    },
    {
     "name": "stdout",
     "output_type": "stream",
     "text": [
      "Torch: 2.5.1+cu121 | CUDA available: True\n",
      "GPU: NVIDIA GeForce RTX 2060\n"
     ]
    }
   ],
   "source": [
    "# 임포트\n",
    "import re, glob, json\n",
    "from typing import List, Dict\n",
    "import numpy as np\n",
    "\n",
    "# 임베딩/토치\n",
    "import torch\n",
    "from sentence_transformers import SentenceTransformer\n",
    "\n",
    "# 벡터 인덱스(FAISS)\n",
    "import faiss\n",
    "\n",
    "# 파일 파싱(가벼운 경로: PDF는 pypdf, 텍스트는 open)\n",
    "from pypdf import PdfReader\n",
    "\n",
    "print(\"Torch:\", torch.__version__, \"| CUDA available:\", torch.cuda.is_available())\n",
    "if torch.cuda.is_available():\n",
    "    print(\"GPU:\", torch.cuda.get_device_name(0))"
   ]
  },
  {
   "cell_type": "markdown",
   "id": "d0bf9d1e-57ba-4ba1-88cb-060cc2719c1e",
   "metadata": {},
   "source": [
    "# 3. (선택) OpenAI 클라이언트 준비"
   ]
  },
  {
   "cell_type": "code",
   "execution_count": 3,
   "id": "dcce5129-15c6-4ad9-b213-344d021a6b80",
   "metadata": {},
   "outputs": [
    {
     "name": "stdout",
     "output_type": "stream",
     "text": [
      "OpenAI key loaded: True\n"
     ]
    }
   ],
   "source": [
    "import os\n",
    "# 안전: 터미널에서 미리 설정했다면 이 셀은 생략 가능\n",
    "# 예) 터미널: setx OPENAI_API_KEY \"sk-XXXX\"  (새 세션부터 반영)\n",
    "# 노트북 임시 설정: (실서비스/버전관리에는 넣지 마세요!)\n",
    "# os.environ[\"OPENAI_API_KEY\"] = \"sk-...\"\n",
    "\n",
    "from openai import OpenAI\n",
    "client = OpenAI(api_key=os.getenv(\"OPENAI_API_KEY\"))\n",
    "print(\"OpenAI key loaded:\", bool(os.getenv(\"OPENAI_API_KEY\")))"
   ]
  },
  {
   "cell_type": "markdown",
   "id": "efd029e2-3f41-4d50-b5b2-7be649b9cb4d",
   "metadata": {},
   "source": [
    "# 4. 데이터 가져오기 + 문서 만들기"
   ]
  },
  {
   "cell_type": "code",
   "execution_count": 6,
   "id": "890943e6-848e-448f-9a2c-a69643560cfd",
   "metadata": {},
   "outputs": [],
   "source": [
    "import pandas as pd"
   ]
  },
  {
   "cell_type": "code",
   "execution_count": 16,
   "id": "60b904db-3973-4cb5-90bf-1fe6340b5f4d",
   "metadata": {},
   "outputs": [
    {
     "data": {
      "text/plain": [
       "'../Data'"
      ]
     },
     "execution_count": 16,
     "metadata": {},
     "output_type": "execute_result"
    }
   ],
   "source": [
    "folder = '../Data' # .. 은 폴더 뒤로가기\n",
    "folder"
   ]
  },
  {
   "cell_type": "code",
   "execution_count": 17,
   "id": "70dd84e5-4b73-4a3b-996f-763d320e2700",
   "metadata": {},
   "outputs": [
    {
     "data": {
      "text/plain": [
       "'보이스피싱 챗봇 즉답형 시나리오 샘플.xlsx'"
      ]
     },
     "execution_count": 17,
     "metadata": {},
     "output_type": "execute_result"
    }
   ],
   "source": [
    "file_name = os.listdir(folder)[0]\n",
    "file_name"
   ]
  },
  {
   "cell_type": "code",
   "execution_count": 19,
   "id": "d7885dc3-cda5-4ac5-9b5c-5a5cd4ff11ff",
   "metadata": {},
   "outputs": [
    {
     "data": {
      "text/plain": [
       "'../Data\\\\보이스피싱 챗봇 즉답형 시나리오 샘플.xlsx'"
      ]
     },
     "execution_count": 19,
     "metadata": {},
     "output_type": "execute_result"
    }
   ],
   "source": [
    "file_path = os.path.join(folder, file_name)\n",
    "file_path"
   ]
  },
  {
   "cell_type": "code",
   "execution_count": 21,
   "id": "447d8179-8155-4a04-b465-8086d2c6c16a",
   "metadata": {},
   "outputs": [],
   "source": [
    "data = pd.read_excel(file_path, sheet_name=None)"
   ]
  },
  {
   "cell_type": "code",
   "execution_count": 28,
   "id": "6aeac77b-3af2-40d6-8725-f190612c1015",
   "metadata": {},
   "outputs": [
    {
     "data": {
      "text/plain": [
       "['전화 1차', '문자 2차', '단순상담 1차']"
      ]
     },
     "execution_count": 28,
     "metadata": {},
     "output_type": "execute_result"
    }
   ],
   "source": [
    "Sheets = list(data.keys())\n",
    "Sheets"
   ]
  },
  {
   "cell_type": "code",
   "execution_count": 47,
   "id": "33c53f1d-50f9-44a9-b9c2-90130fe3d537",
   "metadata": {},
   "outputs": [],
   "source": [
    "# RAG 문서 리스트 만들기\n",
    "docs = []\n",
    "for sheet in Sheets :\n",
    "    df = data[sheet].copy()\n",
    "    df = df[['문의내용', '답변내용']]\n",
    "    df.loc[:, '출처'] = sheet\n",
    "    for _, row in df.iterrows():\n",
    "        doc = {\n",
    "            \"text\": str(row[\"문의내용\"]),  # 임베딩할 본문\n",
    "            \"metadata\": {\n",
    "                \"답변내용\": str(row[\"답변내용\"]),\n",
    "                \"출처\": str(row[\"출처\"])\n",
    "            }\n",
    "        }\n",
    "        docs.append(doc)"
   ]
  },
  {
   "cell_type": "code",
   "execution_count": 43,
   "id": "9feb60fd-76f2-4b99-88b9-1c6e7ee61659",
   "metadata": {},
   "outputs": [
    {
     "data": {
      "text/plain": [
       "36"
      ]
     },
     "execution_count": 43,
     "metadata": {},
     "output_type": "execute_result"
    }
   ],
   "source": [
    "len(docs)"
   ]
  },
  {
   "cell_type": "markdown",
   "id": "31a79034-774f-4a39-aef3-bcb46eaa5511",
   "metadata": {},
   "source": [
    "# 5. 텍스트 임베딩 하기"
   ]
  },
  {
   "cell_type": "markdown",
   "id": "8d43cd6c-1c04-4a3e-8ac7-74c5e2f42263",
   "metadata": {},
   "source": [
    "## 0. 환경 확인 & 장치 선택"
   ]
  },
  {
   "cell_type": "code",
   "execution_count": 57,
   "id": "80755155-161f-45b5-9778-c87ea65fa2bc",
   "metadata": {},
   "outputs": [
    {
     "name": "stdout",
     "output_type": "stream",
     "text": [
      "Python: 3.10.7\n",
      "CUDA available: True\n",
      "GPU: NVIDIA GeForce RTX 2060\n"
     ]
    },
    {
     "data": {
      "text/plain": [
       "'cuda'"
      ]
     },
     "execution_count": 57,
     "metadata": {},
     "output_type": "execute_result"
    }
   ],
   "source": [
    "import os, sys, json, time\n",
    "import numpy as np\n",
    "import torch\n",
    "\n",
    "print(\"Python:\", sys.version.split()[0])\n",
    "print(\"CUDA available:\", torch.cuda.is_available())\n",
    "if torch.cuda.is_available():\n",
    "    print(\"GPU:\", torch.cuda.get_device_name(0))\n",
    "device = \"cuda\" if torch.cuda.is_available() else \"cpu\"\n",
    "device"
   ]
  },
  {
   "cell_type": "markdown",
   "id": "16b124e6-00ad-4f23-9d42-94c857d9eb20",
   "metadata": {},
   "source": [
    "## 1. docs → LangChain Documents 변환"
   ]
  },
  {
   "cell_type": "code",
   "execution_count": 64,
   "id": "d4b19611-9fe4-4d97-80c4-75270d01fc1d",
   "metadata": {},
   "outputs": [
    {
     "data": {
      "text/plain": [
       "(126,\n",
       " Document(metadata={'답변내용': '대환대출이 가능하다고 하면서 기존 대출금 상환을 유도 한 후 가로채는 피싱 유형입니다. 기존 대출처인 신한카드(☎ 1544-7000)로 상환관련 내용에 대해 진위여부 확인을 하시기 바랍니다.\\n단순 통화가 아닌 개인정보 노출이 있는 경우에는 명의도용 피해 예방법으로 조치하셔서 2차 피해를 예방해야 합니다.', '출처': '전화 1차'}, page_content='OK금융 담당자와 전화로 대출상담을 했는데 이후 기존 대출이 있는 신한카드 담당자한테서 계약위반을 했으니 기존 대출금을 대면상환 해야 한다면서  해지통보서 및 지급정지통보서를 보내왔어요'))"
      ]
     },
     "execution_count": 64,
     "metadata": {},
     "output_type": "execute_result"
    }
   ],
   "source": [
    "from langchain.docstore.document import Document\n",
    "documents = [\n",
    "    Document(page_content=d[\"text\"], metadata=d[\"metadata\"])\n",
    "    for d in docs\n",
    "]\n",
    "len(documents), documents[0]"
   ]
  },
  {
   "cell_type": "code",
   "execution_count": 49,
   "id": "23cd3a2b-502d-44c0-9a15-05cde3ac3bba",
   "metadata": {},
   "outputs": [],
   "source": [
    "# intfloat/multilingual-e5-large"
   ]
  },
  {
   "cell_type": "markdown",
   "id": "3618ef32-b947-4329-b05c-981c7b1d1ac9",
   "metadata": {},
   "source": [
    "## 2. E5-large 임베딩 준비 (접두어 세팅)"
   ]
  },
  {
   "cell_type": "code",
   "execution_count": 66,
   "id": "d2ecf7e8-06d3-4c51-a177-d5fbbeae34eb",
   "metadata": {},
   "outputs": [],
   "source": [
    "from langchain_huggingface import HuggingFaceEmbeddings\n",
    "\n",
    "# 디바이스 선택\n",
    "import torch\n",
    "device = \"cuda\" if torch.cuda.is_available() else \"cpu\"\n",
    "\n",
    "class E5Embeddings(HuggingFaceEmbeddings):\n",
    "    \"\"\"E5 전용: query/passages 접두어 자동 부착 + L2 정규화\"\"\"\n",
    "    def __init__(self, **kwargs):\n",
    "        super().__init__(**kwargs)\n",
    "        # encode_kwargs에서 normalize_embeddings=True 설정 (코사인과 동치)\n",
    "        if \"encode_kwargs\" not in kwargs:\n",
    "            self.encode_kwargs = {\"normalize_embeddings\": True}\n",
    "\n",
    "    def embed_query(self, text: str):\n",
    "        return super().embed_query(f\"query: {text}\")\n",
    "\n",
    "    def embed_documents(self, texts):\n",
    "        texts = [f\"passage: {t}\" for t in texts]\n",
    "        return super().embed_documents(texts)\n",
    "\n",
    "embedding_model = E5Embeddings(\n",
    "    model_name=\"intfloat/multilingual-e5-large\",\n",
    "    model_kwargs={\"device\": device},              # \"cpu\" 강제 가능\n",
    "    encode_kwargs={\"normalize_embeddings\": True}, # 안전하게 한번 더 명시\n",
    ")"
   ]
  },
  {
   "cell_type": "markdown",
   "id": "316feb56-ccd7-467f-9376-48c86bfc13b1",
   "metadata": {},
   "source": [
    "## 3. 벡터스토어 생성/저장 (FAISS) /  Load"
   ]
  },
  {
   "cell_type": "code",
   "execution_count": 76,
   "id": "38d66550-8dca-45ff-a89a-b531508de635",
   "metadata": {},
   "outputs": [],
   "source": [
    "from langchain_community.vectorstores import FAISS\n",
    "try:\n",
    "    from langchain_community.vectorstores.utils import DistanceStrategy\n",
    "except Exception as e:\n",
    "    print(e)\n",
    "    from langchain_core.vectorstores import DistanceStrategy  # 일부 버전 호환"
   ]
  },
  {
   "cell_type": "code",
   "execution_count": 68,
   "id": "846cd48d-0468-4d49-9177-83c5a1267e7e",
   "metadata": {},
   "outputs": [
    {
     "name": "stderr",
     "output_type": "stream",
     "text": [
      "C:\\Users\\user\\Practice_Rag\\venv\\lib\\site-packages\\langchain_community\\vectorstores\\faiss.py:233: UserWarning: Normalizing L2 is not applicable for metric type: MAX_INNER_PRODUCT\n",
      "  warnings.warn(\n"
     ]
    }
   ],
   "source": [
    "# 코사인 유사도: L2 정규화 + 내적\n",
    "vectorstore = FAISS.from_documents(\n",
    "    documents=documents,\n",
    "    embedding=embedding_model,\n",
    "    distance_strategy=DistanceStrategy.MAX_INNER_PRODUCT,\n",
    "    normalize_L2=True,\n",
    ")\n",
    "\n",
    "vectorstore.save_local(\"./faiss_index_voicephishing_1\")"
   ]
  },
  {
   "cell_type": "code",
   "execution_count": 69,
   "id": "12fcaa3f-a31f-4d7c-88ee-0f2440a95458",
   "metadata": {},
   "outputs": [],
   "source": [
    "vs = FAISS.load_local(\"./faiss_index_voicephishing_1\",\n",
    "                      embeddings=embedding_model,\n",
    "                      allow_dangerous_deserialization=True)"
   ]
  },
  {
   "cell_type": "markdown",
   "id": "cbfa9b4b-4409-45de-b09d-ba88acf84a7f",
   "metadata": {},
   "source": [
    "## 4. 유사문서 찾기"
   ]
  },
  {
   "cell_type": "code",
   "execution_count": 79,
   "id": "00b5f69f-847e-41ab-ae64-545cbc5a4b2f",
   "metadata": {},
   "outputs": [
    {
     "name": "stdout",
     "output_type": "stream",
     "text": [
      "[1] cosine=0.9489 | 출처=문자 2차\n",
      "문의내용: 해외발신으로 카드가 발급됐다는 문자를 수신했는데 본인이 신청하지 않았을 경우 사고대응센터에 전화하라고 했어요 ...\n",
      "답변내용: 정상적인 발급 문자라면 카드사 정보가 있어야 합니다. 발신번호 또는 문자내 안내처가 아닌 해당 카드사의 대표번호로 전화를 하여 발급 유무를 확인해야 하며, 카드사 정보가 없는 경우에는 전화를 유도하여 개인정보 탈취를 하려는 미끼문자일 가능성이 높습니다. \n",
      "안드로이드용 사용자는 메시지신고 > 피싱으로 신고 후 문자 삭제를 하고 발신번호도 차단을 하시기 바랍니다. iOS사용자는 발신번호 차단 후 삭제하시기 바랍니다.\n",
      "--------------------------------------------------------------------------------\n",
      "[2] cosine=0.9190 | 출처=문자 2차\n",
      "문의내용: 해외발신으로 카드가 발급됐다는 문자를 수신했는데 본인이 신청하지 않았을 경우 전화하라고 해서 통화하여 인증번호를 말했어요 ...\n",
      "답변내용: 노출된 인증번호의 사용처가 어디인지에 따라 개인정보 노출 피해 상황이 달라질 수 있기 때문에 명의도용 유무 확인방법 1번~3번까지 조치하여 파악하시기 바랍니다.\n",
      "또한 추후 일어날 수 있는 2차피해 예방을 위해 명의도용 예방법 1번 ~ 4번까지 조치하시기 바랍니다.\n",
      "--------------------------------------------------------------------------------\n",
      "[3] cosine=0.9059 | 출처=문자 2차\n",
      "문의내용: 카드가 발급되었다는 해외발신 문자를 수신했는데 문의사항이 있으면 전화하라는 번호가 있어요 ...\n",
      "답변내용: 정상적인 발급 문자라면 카드사 정보가 있어야 합니다. 발신번호 또는 문자내 안내처가 아닌 해당 카드사의 대표번호로 전화를 하여 발급 유무를 확인해야 하며, 카드사 정보가 없는 경우에는 전화를 유도하여 개인정보 탈취를 하려는 미끼문자일 가능성이 높습니다. \n",
      "안드로이드용 사용자는 메시지신고 > 피싱으로 신고 후 문자 삭제를 하고 발신번호도 차단을 하시기 바랍니다. iOS사용자는 발신번호 차단 후 삭제하시기 바랍니다.\n",
      "--------------------------------------------------------------------------------\n"
     ]
    }
   ],
   "source": [
    "query = \"해외발신으로 카드가 발급됐다는 문자를 수신했는데 본인이 신청하지 않았을 경우 사고대응센터에 전화하라고 했어요\"\n",
    "results = vectorstore.similarity_search_with_score(query, k=3)\n",
    "\n",
    "for i, (doc, score) in enumerate(results, 1):\n",
    "    # score ∈ [0, 1] (정규화 + 내적 = 코사인유사도)\n",
    "    print(f\"[{i}] cosine={score:.4f} | 출처={doc.metadata.get('출처')}\")\n",
    "    print(\"문의내용:\", doc.page_content[:160].replace(\"\\n\",\" \"), \"...\")\n",
    "    print(\"답변내용:\", doc.metadata.get(\"답변내용\"))\n",
    "    print(\"-\"*80)"
   ]
  },
  {
   "cell_type": "markdown",
   "id": "3e28be64-397c-4dde-a7c9-5a85c95001fe",
   "metadata": {},
   "source": [
    "# 6. OpenAI API + context 필터링 코드"
   ]
  },
  {
   "cell_type": "code",
   "execution_count": 81,
   "id": "3374d4b7-eb78-4cb9-ad23-66211f353670",
   "metadata": {},
   "outputs": [],
   "source": [
    "# 환경변수에 OPENAI_API_KEY 설정되어 있어야 함\n",
    "client = OpenAI(api_key=os.getenv(\"OPENAI_API_KEY\"))"
   ]
  },
  {
   "cell_type": "code",
   "execution_count": 86,
   "id": "b44462ca-8564-492e-92ac-5ec3569c584a",
   "metadata": {},
   "outputs": [],
   "source": [
    "def build_prompt(query, results, threshold=0.8):\n",
    "    global context\n",
    "    \"\"\"코사인 유사도 threshold 이상인 문서만 context로 포함\"\"\"\n",
    "    filtered = [(doc, score) for doc, score in results if score >= threshold]\n",
    "\n",
    "    if not filtered:\n",
    "        return f\"사용자 질문: {query}\\n\\n관련 문서가 없어 답변할 수 없습니다.\"\n",
    "\n",
    "    # context 생성\n",
    "    context_parts = []\n",
    "    for i, (doc, score) in enumerate(filtered, 1):\n",
    "        context_parts.append(\n",
    "            f\"[{i}] (score={score:.4f}, 출처={doc.metadata.get('출처')})\\n\"\n",
    "            f\"문의내용: {doc.page_content}\\n\"\n",
    "            f\"답변내용: {doc.metadata.get('답변내용')}\\n\"\n",
    "        )\n",
    "\n",
    "    context = \"\\n\\n\".join(context_parts)\n",
    "\n",
    "    # 최종 프롬프트\n",
    "    prompt = (\n",
    "        \"당신은 주어진 컨텍스트만을 바탕으로 한국어로 정확하게 답변하세요.\\n\"\n",
    "        \"컨텍스트에 없는 내용은 추측하지 말고 '주어진 자료에 근거해 알 수 없습니다'라고 답하세요.\\n\\n\"\n",
    "        f\"사용자 질문:\\n{query}\\n\\n\"\n",
    "        f\"--- 컨텍스트 (코사인≥{threshold}) ---\\n{context}\\n\\n\"\n",
    "        \"최종 답변:\"\n",
    "    )\n",
    "    return prompt\n",
    "\n",
    "def rag_answer(query, k=3, threshold=0.8, model=\"gpt-4o-mini\"):\n",
    "    # 검색\n",
    "    results = vectorstore.similarity_search_with_score(query, k=k)\n",
    "\n",
    "    # 프롬프트 생성\n",
    "    prompt = build_prompt(query, results, threshold=threshold)\n",
    "\n",
    "    # OpenAI API 호출\n",
    "    resp = client.chat.completions.create(\n",
    "        model=model,\n",
    "        messages=[{\"role\": \"user\", \"content\": prompt}],\n",
    "        temperature=0.2,\n",
    "    )\n",
    "    return resp.choices[0].message.content"
   ]
  },
  {
   "cell_type": "markdown",
   "id": "b170538d-0e6a-4f51-8dbd-435e63cd2323",
   "metadata": {},
   "source": [
    "# 7. 테스트 실행"
   ]
  },
  {
   "cell_type": "markdown",
   "id": "1876aea8-d7e1-42a5-b256-f0cefb066289",
   "metadata": {},
   "source": [
    "## 1. Rag 실행(open ai)"
   ]
  },
  {
   "cell_type": "code",
   "execution_count": 88,
   "id": "8b5f3e98-33d1-421c-b1a9-a26515c70fca",
   "metadata": {},
   "outputs": [
    {
     "name": "stdout",
     "output_type": "stream",
     "text": [
      "질문: 해외발신으로 카드가 발급됐다는 문자를 수신했는데 본인이 신청하지 않았을 경우 사고대응센터에 전화하라고 했어요\n",
      "\n",
      "[생성된 답변]\n",
      " 해외발신으로 카드가 발급됐다는 문자를 수신했지만 본인이 신청하지 않았다면, 해당 카드사의 대표번호로 전화를 하여 발급 유무를 확인해야 합니다. 발신번호나 문자 내 안내처가 아닌 카드사의 공식 번호로 확인하는 것이 중요합니다. 만약 카드사 정보가 없다면, 이는 개인정보 탈취를 시도하는 미끼문자일 가능성이 높습니다. 안드로이드 사용자는 메시지 신고를 통해 피싱으로 신고한 후 문자를 삭제하고 발신번호를 차단하시기 바랍니다. iOS 사용자는 발신번호를 차단한 후 삭제하시기 바랍니다.\n",
      "\n",
      "[출처]\n",
      " [1] (score=0.9489, 출처=문자 2차)\n",
      "문의내용: 해외발신으로 카드가 발급됐다는 문자를 수신했는데 본인이 신청하지 않았을 경우 사고대응센터에 전화하라고 했어요\n",
      "답변내용: 정상적인 발급 문자라면 카드사 정보가 있어야 합니다. 발신번호 또는 문자내 안내처가 아닌 해당 카드사의 대표번호로 전화를 하여 발급 유무를 확인해야 하며, 카드사 정보가 없는 경우에는 전화를 유도하여 개인정보 탈취를 하려는 미끼문자일 가능성이 높습니다. \n",
      "안드로이드용 사용자는 메시지신고 > 피싱으로 신고 후 문자 삭제를 하고 발신번호도 차단을 하시기 바랍니다. iOS사용자는 발신번호 차단 후 삭제하시기 바랍니다.\n",
      "\n",
      "\n",
      "[2] (score=0.9190, 출처=문자 2차)\n",
      "문의내용: 해외발신으로 카드가 발급됐다는 문자를 수신했는데 본인이 신청하지 않았을 경우 전화하라고 해서 통화하여 인증번호를 말했어요\n",
      "답변내용: 노출된 인증번호의 사용처가 어디인지에 따라 개인정보 노출 피해 상황이 달라질 수 있기 때문에 명의도용 유무 확인방법 1번~3번까지 조치하여 파악하시기 바랍니다.\n",
      "또한 추후 일어날 수 있는 2차피해 예방을 위해 명의도용 예방법 1번 ~ 4번까지 조치하시기 바랍니다.\n",
      "\n",
      "\n",
      "[3] (score=0.9059, 출처=문자 2차)\n",
      "문의내용: 카드가 발급되었다는 해외발신 문자를 수신했는데 문의사항이 있으면 전화하라는 번호가 있어요\n",
      "답변내용: 정상적인 발급 문자라면 카드사 정보가 있어야 합니다. 발신번호 또는 문자내 안내처가 아닌 해당 카드사의 대표번호로 전화를 하여 발급 유무를 확인해야 하며, 카드사 정보가 없는 경우에는 전화를 유도하여 개인정보 탈취를 하려는 미끼문자일 가능성이 높습니다. \n",
      "안드로이드용 사용자는 메시지신고 > 피싱으로 신고 후 문자 삭제를 하고 발신번호도 차단을 하시기 바랍니다. iOS사용자는 발신번호 차단 후 삭제하시기 바랍니다.\n",
      "\n"
     ]
    }
   ],
   "source": [
    "# 테스트 실행\n",
    "query = \"해외발신으로 카드가 발급됐다는 문자를 수신했는데 본인이 신청하지 않았을 경우 사고대응센터에 전화하라고 했어요\"\n",
    "answer = rag_answer(query, k=3, threshold=0.8)\n",
    "print(\"질문:\", query)\n",
    "print(\"\\n[생성된 답변]\\n\", answer)\n",
    "print(\"\\n[출처]\\n\", context)"
   ]
  },
  {
   "cell_type": "markdown",
   "id": "ccc2ac06-78cc-48bf-ac60-908c9340f745",
   "metadata": {},
   "source": [
    "## 2. 그냥 LLM 이용"
   ]
  },
  {
   "cell_type": "code",
   "execution_count": 90,
   "id": "874071b7-924a-4eed-a7f3-69d1fdc22a9d",
   "metadata": {},
   "outputs": [
    {
     "data": {
      "text/plain": [
       "'해외발신으로 카드가 발급됐다는 문자를 수신했는데 본인이 신청하지 않았을 경우 사고대응센터에 전화하라고 했어요'"
      ]
     },
     "execution_count": 90,
     "metadata": {},
     "output_type": "execute_result"
    }
   ],
   "source": [
    "query"
   ]
  },
  {
   "cell_type": "code",
   "execution_count": 92,
   "id": "7d148ed7-5b4d-482d-85de-e494a8a5ca80",
   "metadata": {},
   "outputs": [
    {
     "name": "stdout",
     "output_type": "stream",
     "text": [
      "질문: 해외발신으로 카드가 발급됐다는 문자를 수신했는데 본인이 신청하지 않았을 경우 사고대응센터에 전화하라고 했어요\n",
      "\n",
      "[LLM 답변]\n",
      " 해외 발신으로 카드가 발급되었다는 문자를 받았고, 본인이 신청하지 않았다면 매우 주의해야 합니다. 이런 경우 사기나 해킹의 위험이 있을 수 있으므로 즉시 다음과 같은 조치를 취하는 것이 좋습니다:\n",
      "\n",
      "1. **사고대응센터에 연락하기**: 해당 카드사의 사고대응센터에 즉시 전화하여 상황을 설명하고, 카드 발급에 대한 확인을 요청하세요. 카드사에서는 추가적인 조치를 안내해 줄 것입니다.\n",
      "\n",
      "2. **카드 사용 내역 확인**: 만약 카드가 이미 발급되었다면, 그 카드로의 사용 내역을 확인하여 본인이 모르는 거래가 있는지 체크하세요.\n",
      "\n",
      "3. **신분 확인**: 카드사에 연락할 때, 본인의 신분을 확인할 수 있는 정보를 미리 준비하세요. 개인 정보가 유출된 경우 추가적인 피해를 방지할 수 있습니다.\n",
      "\n",
      "4. **신용정보 조회**: 신용정보를 조회하여 본인의 신용카드나 대출에 이상이 없는지 확인하세요.\n",
      "\n",
      "5. **비밀번호 및 보안 정보 변경**: 만약 카드 정보가 유출되었다고 의심된다면, 관련된 모든 계정의 비밀번호와 보안 정보를 변경하는 것이 좋습니다.\n",
      "\n",
      "6. **사기 신고**: 필요시 경찰에 사기 신고를 고려하세요.\n",
      "\n",
      "이런 상황에서는 신속하게 대응하는 것이 중요합니다.\n"
     ]
    }
   ],
   "source": [
    "def answer_only_with_query(query, model=\"gpt-4o-mini\"):\n",
    "    response = client.chat.completions.create(\n",
    "        model=model,\n",
    "        messages=[{\"role\": \"user\", \"content\": query}],\n",
    "        temperature=0.7,   # 다양성 정도 (0=사실적, 1=창의적)\n",
    "    )\n",
    "    return response.choices[0].message.content\n",
    "\n",
    "# 테스트 실행\n",
    "# query = \"해외발신으로 카드가 발급됐다는 문자를 수신했는데 본인이 신청하지 않았을 경우 어떻게 해야 하나요?\"\n",
    "answer = answer_only_with_query(query)\n",
    "print(\"질문:\", query)\n",
    "print(\"\\n[LLM 답변]\\n\", answer)"
   ]
  },
  {
   "cell_type": "markdown",
   "id": "ab708ae0-eee6-4e20-8946-49901a3727b8",
   "metadata": {},
   "source": [
    "## 3. Ollama + Gemma7b (q4) RAG 함수"
   ]
  },
  {
   "cell_type": "code",
   "execution_count": 93,
   "id": "4a3b6866-a918-46f5-9992-43f63c9d753c",
   "metadata": {},
   "outputs": [
    {
     "name": "stdout",
     "output_type": "stream",
     "text": [
      "해외발신으로 카드가 발급됐다는 문자를 수신했는데 본인이 신청하지 않았을 경우, 다음과 같은 과정을 거쳐 해결할 수 있습니다.\n",
      "\n",
      "**1. 카드사 확인:**\n",
      "\n",
      "* 정상적인 발급 문자라면 카드사 정보가 있어야 합니다.\n",
      "* 발신번호 또는 문자내 안내처가 아닌 해당 카드사의 대표번호로 전화를 하여 발급 유무를 확인합니다.\n",
      "* 카드사 정보가 없는 경우에는 전화를 유도하여 개인정보 탈취를 하려는 미끼문자일 가능성이 높습니다.\n",
      "\n",
      "**2. 피해 예방:**\n",
      "\n",
      "* 안드로이드용 사용자는 메시지신고 > 피싱으로 신고 후 문자 삭제를 하고 발신번호도 차단을 하시기 바랍니다.\n",
      "* iOS사용자는 발신번호 차단 후 삭제하시기 바랍니다.\n",
      "* 명의도용 유무 확인방법 1번~3번까지 조치하여 파악하시기 바랍니다.\n",
      "* 추후 일어날 수 있는 2차피해 예방을 위해 명의도용 예방법 1번 ~ 4번까지 조치하시기 바랍니다.\n",
      "\n",
      "**3. 해결:**\n",
      "\n",
      "* 해외에서 카드 결제 내역이 있다는 문자를 수신하였습니다. 본인이 결제한 것이 아닐 경우 전화하라는 곳이 있어 전화 했는데 이후 금감원과 검찰청에서 전화를 받았습니다.\n",
      "* 문자에 포함된 전화번호로 연락하게 하여 개인정보를 탈취하거나 악성파일, 원격제어앱 실행을 유도하는 형식의 보이스피싱입니다.\n",
      "* 현재 검찰청, 금감원 등의 공공기관 대표번호로 전화를 수신하고 소속 공무원을 사칭하는 전화를 받으셨다면 이미 휴대폰은 원격제어 및 악성앱의 영향을 받아 정상적인 전화를 수신, 발신할 수 있는 상태가 아니므로 신속히 휴대폰을 비행기모드 및 데이터차단, 와이파이 차단 모드로 전환하시고 악성설치파일(.apk) 유무를 확인 및 삭제, 모바일 백신 검사를 해야 합니다.\n"
     ]
    }
   ],
   "source": [
    "import requests\n",
    "\n",
    "def ollama_generate(model: str, prompt: str, temperature: float = 0.2) -> str:\n",
    "    \"\"\"Ollama 로컬 모델 호출 (REST API)\"\"\"\n",
    "    url = \"http://localhost:11434/api/generate\"\n",
    "    payload = {\n",
    "        \"model\": model,\n",
    "        \"prompt\": prompt,\n",
    "        \"stream\": False,   # 한 번에 응답 받기\n",
    "        \"options\": {\"temperature\": temperature},\n",
    "    }\n",
    "    r = requests.post(url, json=payload, timeout=600)\n",
    "    r.raise_for_status()\n",
    "    data = r.json()\n",
    "    return data.get(\"response\", \"\").strip()\n",
    "\n",
    "def rag_answer_ollama(query, k=3, threshold=0.8, \n",
    "                      model=\"gemma:7b-instruct-q4_K_M\", temperature=0.2):\n",
    "    # 1) 벡터 검색\n",
    "    results = vectorstore.similarity_search_with_score(query, k=k)\n",
    "\n",
    "    # 2) 프롬프트 만들기 (기존 build_prompt 함수 사용)\n",
    "    prompt = build_prompt(query, results, threshold=threshold)\n",
    "\n",
    "    # 3) Ollama 호출\n",
    "    answer = ollama_generate(model=model, prompt=prompt, temperature=temperature)\n",
    "    return answer\n",
    "\n",
    "# 🔹 테스트 실행\n",
    "query = \"해외발신으로 카드가 발급됐다는 문자를 수신했는데 본인이 신청하지 않았을 경우 어떻게 해야 하나요?\"\n",
    "print(rag_answer_ollama(query, k=5, threshold=0.8, model=\"gemma:7b-instruct-q4_K_M\"))"
   ]
  },
  {
   "cell_type": "markdown",
   "id": "a84000e8-aa50-4281-b573-ee12af7e2bf0",
   "metadata": {},
   "source": [
    "## 4. LangChain + ChatOllama RAG 함수"
   ]
  },
  {
   "cell_type": "code",
   "execution_count": 94,
   "id": "df200abc-a9d7-472a-8131-04bd2471dcc2",
   "metadata": {},
   "outputs": [
    {
     "name": "stderr",
     "output_type": "stream",
     "text": [
      "C:\\Users\\user\\AppData\\Local\\Temp\\ipykernel_22412\\1210812642.py:5: LangChainDeprecationWarning: The class `ChatOllama` was deprecated in LangChain 0.3.1 and will be removed in 1.0.0. An updated version of the class exists in the :class:`~langchain-ollama package and should be used instead. To use it run `pip install -U :class:`~langchain-ollama` and import as `from :class:`~langchain_ollama import ChatOllama``.\n",
      "  chat_llm = ChatOllama(\n"
     ]
    },
    {
     "name": "stdout",
     "output_type": "stream",
     "text": [
      "[답변]\n",
      " 해외발신으로 카드가 발급됐다는 문자를 수신했는데 본인이 신청하지 않았을 경우에는 다음과 같은 과정을 거동합니다.\n",
      "\n",
      "**1. 카드사 정보 확인:**\n",
      "\n",
      "* 문자에 포함된 카드사 정보가 정확한지 확인합니다.\n",
      "* 발신번호 또는 문자내 안내처가 아닌 해당 카드사의 대표번호로 전화를 하여 발급 유무를 확인합니다.\n",
      "* 카드사 정보가 없는 경우에는 전화를 유도하여 개인정보 탈취를 하려는 미끼문자일 가능성이 높습니다.\n",
      "\n",
      "**2. 개인정보 노출 피해 예방:**\n",
      "\n",
      "* 노출된 인증번호의 사용처가 어디인지에 따라 개인정보 노출 피해 상황이 달라질 수 있기 때문에 명의도용 유무 확인방법 1번~3번까지 조치하여 파악하시기 바랍니다.\n",
      "* 추후 일어날 수 있는 2차피해 예방을 위해 명의도용 예방법 1번 ~ 4번까지 조치하시기 바랍니다.\n",
      "\n",
      "**3. 해결 방안:**\n",
      "\n",
      "* 문자에 포함된 전화번호로 연락하게 하여 개인정보를 탈취하거나 악성파일, 원격제어앱 실행을 유도하는 형식의 보이스피싱입니다.\n",
      "* 현재 검찰청, 금감원 등의 공공기관 대표번호로 전화를 수신하고 소속 공무원을 사칭하는 전화를 받으셨다면 이미 휴대폰은 원격제어 및 악성앱의 영향을 받아 정상적인 전화를 수신, 발신할 수 있는 상태가 아니므로 신속히 휴대폰을 비행기모드 및 데이터차단, 와이파이 차단 모드로 전환하시고악성설치파일(.apk) 유무를 확인 및 삭제, 모바일 백신 검사를 해야합니다.\n",
      "* 추가적인 금전피해가 발생할 수 있으므로 이용하는 은행의 지급정지 콜센터로 내계좌 일괄 지급정지를 신청하실 수 있습니다.\n",
      "* 소액결제 피해액에 대해서는 가까운 관할경찰서 민원실에 사건접수를 해주셔야 합니다.\n"
     ]
    }
   ],
   "source": [
    "from langchain_community.chat_models import ChatOllama\n",
    "from langchain_core.messages import HumanMessage\n",
    "\n",
    "# Ollama 로컬 LLM 준비\n",
    "chat_llm = ChatOllama(\n",
    "    model=\"gemma:7b-instruct-q4_K_M\",  # ollama list에 있는 이름 그대로\n",
    "    temperature=0.2,\n",
    ")\n",
    "\n",
    "def rag_answer_ollama_langchain(query: str, k: int = 5, threshold: float = 0.8) -> str:\n",
    "    # 1) 유사 문서 검색 (코사인 점수 포함)\n",
    "    results = vectorstore.similarity_search_with_score(query, k=k)\n",
    "\n",
    "    # 2) 프롬프트 생성 (threshold 이상만 컨텍스트로 포함)\n",
    "    prompt = build_prompt(query, results, threshold=threshold)\n",
    "\n",
    "    # 3) LLM 호출\n",
    "    msg = chat_llm.invoke([HumanMessage(content=prompt)])\n",
    "    return getattr(msg, \"content\", str(msg))\n",
    "\n",
    "# 사용 예시\n",
    "query = \"해외발신으로 카드가 발급됐다는 문자를 수신했는데 본인이 신청하지 않았을 경우 어떻게 해야 하나요?\"\n",
    "answer = rag_answer_ollama_langchain(query, k=5, threshold=0.8)\n",
    "print(\"[답변]\\n\", answer)"
   ]
  },
  {
   "cell_type": "code",
   "execution_count": null,
   "id": "349ba6a5-3145-4c89-8d17-512a100e261b",
   "metadata": {},
   "outputs": [],
   "source": []
  }
 ],
 "metadata": {
  "kernelspec": {
   "display_name": "Python (Practice_rag)",
   "language": "python",
   "name": "practice_rag"
  },
  "language_info": {
   "codemirror_mode": {
    "name": "ipython",
    "version": 3
   },
   "file_extension": ".py",
   "mimetype": "text/x-python",
   "name": "python",
   "nbconvert_exporter": "python",
   "pygments_lexer": "ipython3",
   "version": "3.10.7"
  }
 },
 "nbformat": 4,
 "nbformat_minor": 5
}
